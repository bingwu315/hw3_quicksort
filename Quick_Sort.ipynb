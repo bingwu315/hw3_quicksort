{
 "cells": [
  {
   "cell_type": "code",
   "execution_count": 11,
   "id": "bbae1c53",
   "metadata": {},
   "outputs": [
    {
     "name": "stdout",
     "output_type": "stream",
     "text": [
      "Input array: [33, 67, 8, 13, 54, 119, 3, 84, 25, 41]\n",
      "Left: [33, 67, 8, 13, 54, 3, 84, 25, 41],   Pivot: [119],   Right: []\n",
      "Left: [33, 8, 13, 3, 25, 41],   Pivot: [54],   Right: [67, 84]\n",
      "Left: [],   Pivot: [3],   Right: [33, 8, 13, 25, 41]\n",
      "Left: [8],   Pivot: [13],   Right: [33, 25, 41]\n",
      "Left: [],   Pivot: [25],   Right: [33, 41]\n",
      "Left: [33],   Pivot: [41],   Right: []\n",
      "Left: [67],   Pivot: [84],   Right: []\n",
      "Sorted array: [3, 8, 13, 25, 33, 41, 54, 67, 84, 119]\n"
     ]
    }
   ],
   "source": [
    "\n",
    "def quick_sort(array):\n",
    "    if len(array) <= 1:\n",
    "        return array\n",
    "    else:\n",
    "        pivot = array[len(array) // 2]\n",
    "        left = [x for x in array if x < pivot]\n",
    "        middle = [x for x in array if x == pivot]\n",
    "        right = [x for x in array if x > pivot]\n",
    "        print(f\"Left: {left},   Pivot: {middle},   Right: {right}\")\n",
    "        return quick_sort(left) + middle + quick_sort(right)\n",
    "\n",
    "# 上課範例\n",
    "example = [33, 67, 8, 13, 54, 119, 3, 84, 25, 41]\n",
    "print(\"Input array:\", example)\n",
    "sorted_array = quick_sort(example)\n",
    "print(\"Sorted array:\", sorted_array)\n"
   ]
  },
  {
   "cell_type": "code",
   "execution_count": null,
   "id": "e513a053",
   "metadata": {},
   "outputs": [],
   "source": []
  }
 ],
 "metadata": {
  "kernelspec": {
   "display_name": "Python 3",
   "language": "python",
   "name": "python3"
  },
  "language_info": {
   "codemirror_mode": {
    "name": "ipython",
    "version": 3
   },
   "file_extension": ".py",
   "mimetype": "text/x-python",
   "name": "python",
   "nbconvert_exporter": "python",
   "pygments_lexer": "ipython3",
   "version": "3.8.8"
  }
 },
 "nbformat": 4,
 "nbformat_minor": 5
}
